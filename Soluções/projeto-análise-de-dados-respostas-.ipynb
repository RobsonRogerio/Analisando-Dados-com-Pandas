{
 "cells": [
  {
   "cell_type": "markdown",
   "id": "defensive-johnson",
   "metadata": {},
   "source": [
    "# Projeto final\n",
    "\n",
    "Bem vindo ao projeto final do curso/módulo de Pandas.\n",
    "Neste projeto, você deve responder a um conjunto de perguntas feitas a dois conjuntos de dados:\n",
    "\n",
    "1. [Obesity among adults by country, 1975-2016](https://www.kaggle.com/amanarora/obesity-among-adults-by-country-19752016/)\n",
    "2. [GDP Per Person (1901-2011)](https://www.kaggle.com/divyansh22/gdp-per-person-19012011?select=GDP.csv)\n",
    "\n",
    "Tais conjuntos de dados são públicos foram publicados no Kaggle. Mais instruções sobre cada um deles podem ser encontrados nos links acima. Você também os encontrará na pasta `Datasets`, dentro de nossas apostilas."
   ]
  },
  {
   "cell_type": "code",
   "execution_count": 1,
   "id": "accompanied-startup",
   "metadata": {},
   "outputs": [],
   "source": [
    "import pandas as pd\n",
    "import numpy as np\n",
    "from pathlib import Path"
   ]
  },
  {
   "cell_type": "code",
   "execution_count": 2,
   "id": "2f31d0c0",
   "metadata": {},
   "outputs": [],
   "source": [
    "pasta = Path.cwd().parent\n",
    "pasta_datasets = Path(pasta/'Datasets\\\\analise-de-obesidade-e-pib-per-capita')"
   ]
  },
  {
   "cell_type": "markdown",
   "id": "brown-language",
   "metadata": {},
   "source": [
    "## Perguntas - Obesity among adults by country, 1975-2016"
   ]
  },
  {
   "cell_type": "code",
   "execution_count": 3,
   "id": "nervous-peripheral",
   "metadata": {},
   "outputs": [],
   "source": [
    "df_obesity = pd.read_csv(pasta_datasets/\"obesity_cleaned.csv\")"
   ]
  },
  {
   "cell_type": "code",
   "execution_count": 4,
   "id": "f47e3cc5",
   "metadata": {},
   "outputs": [
    {
     "data": {
      "text/html": [
       "<div>\n",
       "<style scoped>\n",
       "    .dataframe tbody tr th:only-of-type {\n",
       "        vertical-align: middle;\n",
       "    }\n",
       "\n",
       "    .dataframe tbody tr th {\n",
       "        vertical-align: top;\n",
       "    }\n",
       "\n",
       "    .dataframe thead th {\n",
       "        text-align: right;\n",
       "    }\n",
       "</style>\n",
       "<table border=\"1\" class=\"dataframe\">\n",
       "  <thead>\n",
       "    <tr style=\"text-align: right;\">\n",
       "      <th></th>\n",
       "      <th>Unnamed: 0</th>\n",
       "      <th>Country</th>\n",
       "      <th>Year</th>\n",
       "      <th>Obesity (%)</th>\n",
       "      <th>Sex</th>\n",
       "    </tr>\n",
       "  </thead>\n",
       "  <tbody>\n",
       "    <tr>\n",
       "      <th>0</th>\n",
       "      <td>0</td>\n",
       "      <td>Afghanistan</td>\n",
       "      <td>1975</td>\n",
       "      <td>0.5 [0.2-1.1]</td>\n",
       "      <td>Both sexes</td>\n",
       "    </tr>\n",
       "    <tr>\n",
       "      <th>1</th>\n",
       "      <td>1</td>\n",
       "      <td>Afghanistan</td>\n",
       "      <td>1975</td>\n",
       "      <td>0.2 [0.0-0.6]</td>\n",
       "      <td>Male</td>\n",
       "    </tr>\n",
       "    <tr>\n",
       "      <th>2</th>\n",
       "      <td>2</td>\n",
       "      <td>Afghanistan</td>\n",
       "      <td>1975</td>\n",
       "      <td>0.8 [0.2-2.0]</td>\n",
       "      <td>Female</td>\n",
       "    </tr>\n",
       "    <tr>\n",
       "      <th>3</th>\n",
       "      <td>3</td>\n",
       "      <td>Afghanistan</td>\n",
       "      <td>1976</td>\n",
       "      <td>0.5 [0.2-1.1]</td>\n",
       "      <td>Both sexes</td>\n",
       "    </tr>\n",
       "    <tr>\n",
       "      <th>4</th>\n",
       "      <td>4</td>\n",
       "      <td>Afghanistan</td>\n",
       "      <td>1976</td>\n",
       "      <td>0.2 [0.0-0.7]</td>\n",
       "      <td>Male</td>\n",
       "    </tr>\n",
       "    <tr>\n",
       "      <th>...</th>\n",
       "      <td>...</td>\n",
       "      <td>...</td>\n",
       "      <td>...</td>\n",
       "      <td>...</td>\n",
       "      <td>...</td>\n",
       "    </tr>\n",
       "    <tr>\n",
       "      <th>24565</th>\n",
       "      <td>24565</td>\n",
       "      <td>Zimbabwe</td>\n",
       "      <td>2015</td>\n",
       "      <td>4.5 [2.4-7.6]</td>\n",
       "      <td>Male</td>\n",
       "    </tr>\n",
       "    <tr>\n",
       "      <th>24566</th>\n",
       "      <td>24566</td>\n",
       "      <td>Zimbabwe</td>\n",
       "      <td>2015</td>\n",
       "      <td>24.8 [18.9-31.3]</td>\n",
       "      <td>Female</td>\n",
       "    </tr>\n",
       "    <tr>\n",
       "      <th>24567</th>\n",
       "      <td>24567</td>\n",
       "      <td>Zimbabwe</td>\n",
       "      <td>2016</td>\n",
       "      <td>15.5 [12.0-19.2]</td>\n",
       "      <td>Both sexes</td>\n",
       "    </tr>\n",
       "    <tr>\n",
       "      <th>24568</th>\n",
       "      <td>24568</td>\n",
       "      <td>Zimbabwe</td>\n",
       "      <td>2016</td>\n",
       "      <td>4.7 [2.5-8.0]</td>\n",
       "      <td>Male</td>\n",
       "    </tr>\n",
       "    <tr>\n",
       "      <th>24569</th>\n",
       "      <td>24569</td>\n",
       "      <td>Zimbabwe</td>\n",
       "      <td>2016</td>\n",
       "      <td>25.3 [19.1-32.0]</td>\n",
       "      <td>Female</td>\n",
       "    </tr>\n",
       "  </tbody>\n",
       "</table>\n",
       "<p>24570 rows × 5 columns</p>\n",
       "</div>"
      ],
      "text/plain": [
       "       Unnamed: 0      Country  Year       Obesity (%)         Sex\n",
       "0               0  Afghanistan  1975     0.5 [0.2-1.1]  Both sexes\n",
       "1               1  Afghanistan  1975     0.2 [0.0-0.6]        Male\n",
       "2               2  Afghanistan  1975     0.8 [0.2-2.0]      Female\n",
       "3               3  Afghanistan  1976     0.5 [0.2-1.1]  Both sexes\n",
       "4               4  Afghanistan  1976     0.2 [0.0-0.7]        Male\n",
       "...           ...          ...   ...               ...         ...\n",
       "24565       24565     Zimbabwe  2015     4.5 [2.4-7.6]        Male\n",
       "24566       24566     Zimbabwe  2015  24.8 [18.9-31.3]      Female\n",
       "24567       24567     Zimbabwe  2016  15.5 [12.0-19.2]  Both sexes\n",
       "24568       24568     Zimbabwe  2016     4.7 [2.5-8.0]        Male\n",
       "24569       24569     Zimbabwe  2016  25.3 [19.1-32.0]      Female\n",
       "\n",
       "[24570 rows x 5 columns]"
      ]
     },
     "execution_count": 4,
     "metadata": {},
     "output_type": "execute_result"
    }
   ],
   "source": [
    "df_obesity"
   ]
  },
  {
   "cell_type": "code",
   "execution_count": 5,
   "id": "56172a0a",
   "metadata": {},
   "outputs": [
    {
     "data": {
      "text/plain": [
       "Obesity (%)\n",
       "No data             504\n",
       "0.4 [0.1-1.0]        55\n",
       "0.6 [0.2-1.3]        47\n",
       "0.3 [0.1-0.7]        46\n",
       "0.3 [0.1-0.8]        46\n",
       "                   ... \n",
       "18.5 [14.1-23.7]      1\n",
       "11.2 [8.8-14.0]       1\n",
       "19.0 [14.5-24.1]      1\n",
       "11.9 [9.4-14.7]       1\n",
       "4.7 [2.5-8.0]         1\n",
       "Name: count, Length: 16375, dtype: int64"
      ]
     },
     "execution_count": 5,
     "metadata": {},
     "output_type": "execute_result"
    }
   ],
   "source": [
    "df_obesity['Obesity (%)'].value_counts()"
   ]
  },
  {
   "cell_type": "code",
   "execution_count": 6,
   "id": "2a2e3c9e",
   "metadata": {},
   "outputs": [
    {
     "data": {
      "text/plain": [
       "Index(['Unnamed: 0', 'Country', 'Year', 'Obesity (%)', 'Sex'], dtype='object')"
      ]
     },
     "execution_count": 6,
     "metadata": {},
     "output_type": "execute_result"
    }
   ],
   "source": [
    "df_obesity.columns"
   ]
  },
  {
   "cell_type": "markdown",
   "id": "german-sentence",
   "metadata": {},
   "source": [
    "- Limpe os dados do DataFrame, criando uma coluna de nome 'Obesity' que conterá os valores de obesidade. Transforme em float as colunas que porventura foram importadas como string."
   ]
  },
  {
   "cell_type": "code",
   "execution_count": 7,
   "id": "outside-ozone",
   "metadata": {},
   "outputs": [],
   "source": [
    "del df_obesity[\"Unnamed: 0\"]"
   ]
  },
  {
   "cell_type": "code",
   "execution_count": 8,
   "id": "a467a080",
   "metadata": {},
   "outputs": [],
   "source": [
    "df_obesity[\"Obesity\"] = df_obesity[\"Obesity (%)\"].apply(lambda x: x.split()[0])"
   ]
  },
  {
   "cell_type": "code",
   "execution_count": 9,
   "id": "e739da02",
   "metadata": {},
   "outputs": [
    {
     "data": {
      "text/plain": [
       "Obesity\n",
       "No      504\n",
       "0.4     222\n",
       "0.6     218\n",
       "0.5     217\n",
       "0.7     210\n",
       "       ... \n",
       "56.8      1\n",
       "62.4      1\n",
       "60.0      1\n",
       "62.6      1\n",
       "60.3      1\n",
       "Name: count, Length: 602, dtype: int64"
      ]
     },
     "execution_count": 9,
     "metadata": {},
     "output_type": "execute_result"
    }
   ],
   "source": [
    "df_obesity[\"Obesity\"].value_counts()"
   ]
  },
  {
   "cell_type": "code",
   "execution_count": 10,
   "id": "12ef7711",
   "metadata": {},
   "outputs": [
    {
     "data": {
      "text/html": [
       "<div>\n",
       "<style scoped>\n",
       "    .dataframe tbody tr th:only-of-type {\n",
       "        vertical-align: middle;\n",
       "    }\n",
       "\n",
       "    .dataframe tbody tr th {\n",
       "        vertical-align: top;\n",
       "    }\n",
       "\n",
       "    .dataframe thead th {\n",
       "        text-align: right;\n",
       "    }\n",
       "</style>\n",
       "<table border=\"1\" class=\"dataframe\">\n",
       "  <thead>\n",
       "    <tr style=\"text-align: right;\">\n",
       "      <th></th>\n",
       "      <th>Country</th>\n",
       "      <th>Year</th>\n",
       "      <th>Obesity (%)</th>\n",
       "      <th>Sex</th>\n",
       "      <th>Obesity</th>\n",
       "    </tr>\n",
       "  </thead>\n",
       "  <tbody>\n",
       "    <tr>\n",
       "      <th>0</th>\n",
       "      <td>Afghanistan</td>\n",
       "      <td>1975</td>\n",
       "      <td>0.5 [0.2-1.1]</td>\n",
       "      <td>Both sexes</td>\n",
       "      <td>0.5</td>\n",
       "    </tr>\n",
       "    <tr>\n",
       "      <th>1</th>\n",
       "      <td>Afghanistan</td>\n",
       "      <td>1975</td>\n",
       "      <td>0.2 [0.0-0.6]</td>\n",
       "      <td>Male</td>\n",
       "      <td>0.2</td>\n",
       "    </tr>\n",
       "    <tr>\n",
       "      <th>2</th>\n",
       "      <td>Afghanistan</td>\n",
       "      <td>1975</td>\n",
       "      <td>0.8 [0.2-2.0]</td>\n",
       "      <td>Female</td>\n",
       "      <td>0.8</td>\n",
       "    </tr>\n",
       "    <tr>\n",
       "      <th>3</th>\n",
       "      <td>Afghanistan</td>\n",
       "      <td>1976</td>\n",
       "      <td>0.5 [0.2-1.1]</td>\n",
       "      <td>Both sexes</td>\n",
       "      <td>0.5</td>\n",
       "    </tr>\n",
       "    <tr>\n",
       "      <th>4</th>\n",
       "      <td>Afghanistan</td>\n",
       "      <td>1976</td>\n",
       "      <td>0.2 [0.0-0.7]</td>\n",
       "      <td>Male</td>\n",
       "      <td>0.2</td>\n",
       "    </tr>\n",
       "    <tr>\n",
       "      <th>...</th>\n",
       "      <td>...</td>\n",
       "      <td>...</td>\n",
       "      <td>...</td>\n",
       "      <td>...</td>\n",
       "      <td>...</td>\n",
       "    </tr>\n",
       "    <tr>\n",
       "      <th>24565</th>\n",
       "      <td>Zimbabwe</td>\n",
       "      <td>2015</td>\n",
       "      <td>4.5 [2.4-7.6]</td>\n",
       "      <td>Male</td>\n",
       "      <td>4.5</td>\n",
       "    </tr>\n",
       "    <tr>\n",
       "      <th>24566</th>\n",
       "      <td>Zimbabwe</td>\n",
       "      <td>2015</td>\n",
       "      <td>24.8 [18.9-31.3]</td>\n",
       "      <td>Female</td>\n",
       "      <td>24.8</td>\n",
       "    </tr>\n",
       "    <tr>\n",
       "      <th>24567</th>\n",
       "      <td>Zimbabwe</td>\n",
       "      <td>2016</td>\n",
       "      <td>15.5 [12.0-19.2]</td>\n",
       "      <td>Both sexes</td>\n",
       "      <td>15.5</td>\n",
       "    </tr>\n",
       "    <tr>\n",
       "      <th>24568</th>\n",
       "      <td>Zimbabwe</td>\n",
       "      <td>2016</td>\n",
       "      <td>4.7 [2.5-8.0]</td>\n",
       "      <td>Male</td>\n",
       "      <td>4.7</td>\n",
       "    </tr>\n",
       "    <tr>\n",
       "      <th>24569</th>\n",
       "      <td>Zimbabwe</td>\n",
       "      <td>2016</td>\n",
       "      <td>25.3 [19.1-32.0]</td>\n",
       "      <td>Female</td>\n",
       "      <td>25.3</td>\n",
       "    </tr>\n",
       "  </tbody>\n",
       "</table>\n",
       "<p>24570 rows × 5 columns</p>\n",
       "</div>"
      ],
      "text/plain": [
       "           Country  Year       Obesity (%)         Sex Obesity\n",
       "0      Afghanistan  1975     0.5 [0.2-1.1]  Both sexes     0.5\n",
       "1      Afghanistan  1975     0.2 [0.0-0.6]        Male     0.2\n",
       "2      Afghanistan  1975     0.8 [0.2-2.0]      Female     0.8\n",
       "3      Afghanistan  1976     0.5 [0.2-1.1]  Both sexes     0.5\n",
       "4      Afghanistan  1976     0.2 [0.0-0.7]        Male     0.2\n",
       "...            ...   ...               ...         ...     ...\n",
       "24565     Zimbabwe  2015     4.5 [2.4-7.6]        Male     4.5\n",
       "24566     Zimbabwe  2015  24.8 [18.9-31.3]      Female    24.8\n",
       "24567     Zimbabwe  2016  15.5 [12.0-19.2]  Both sexes    15.5\n",
       "24568     Zimbabwe  2016     4.7 [2.5-8.0]        Male     4.7\n",
       "24569     Zimbabwe  2016  25.3 [19.1-32.0]      Female    25.3\n",
       "\n",
       "[24570 rows x 5 columns]"
      ]
     },
     "execution_count": 10,
     "metadata": {},
     "output_type": "execute_result"
    }
   ],
   "source": [
    "df_obesity"
   ]
  },
  {
   "cell_type": "code",
   "execution_count": 11,
   "id": "d7fb2926",
   "metadata": {},
   "outputs": [],
   "source": [
    "df_obesity.loc[df_obesity[\"Obesity\"] == \"No\", \"Obesity\"] = np.nan"
   ]
  },
  {
   "cell_type": "code",
   "execution_count": 12,
   "id": "d4129f0f",
   "metadata": {},
   "outputs": [],
   "source": [
    "df_obesity.dropna(inplace=True)"
   ]
  },
  {
   "cell_type": "code",
   "execution_count": 13,
   "id": "39f8f2d3",
   "metadata": {},
   "outputs": [
    {
     "data": {
      "text/plain": [
       "Obesity\n",
       "0.4     222\n",
       "0.6     218\n",
       "0.5     217\n",
       "0.7     210\n",
       "0.8     201\n",
       "       ... \n",
       "61.9      1\n",
       "56.8      1\n",
       "62.1      1\n",
       "42.7      1\n",
       "46.5      1\n",
       "Name: count, Length: 601, dtype: int64"
      ]
     },
     "execution_count": 13,
     "metadata": {},
     "output_type": "execute_result"
    }
   ],
   "source": [
    "df_obesity[\"Obesity\"].value_counts()"
   ]
  },
  {
   "cell_type": "code",
   "execution_count": 14,
   "id": "official-basketball",
   "metadata": {},
   "outputs": [],
   "source": [
    "df_obesity[\"Obesity\"] = df_obesity[\"Obesity\"].apply(lambda x: float(x))\n",
    "# df_obesity[\"Obesity\"] = df_obesity[\"Obesity\"].astype(float)\n",
    "\n",
    "df_obesity[\"Year\"] = df_obesity[\"Year\"].apply(lambda x: int(x))\n",
    "df_obesity.set_index(\"Year\", inplace=True)"
   ]
  },
  {
   "cell_type": "code",
   "execution_count": 15,
   "id": "812851d7",
   "metadata": {},
   "outputs": [
    {
     "data": {
      "text/html": [
       "<div>\n",
       "<style scoped>\n",
       "    .dataframe tbody tr th:only-of-type {\n",
       "        vertical-align: middle;\n",
       "    }\n",
       "\n",
       "    .dataframe tbody tr th {\n",
       "        vertical-align: top;\n",
       "    }\n",
       "\n",
       "    .dataframe thead th {\n",
       "        text-align: right;\n",
       "    }\n",
       "</style>\n",
       "<table border=\"1\" class=\"dataframe\">\n",
       "  <thead>\n",
       "    <tr style=\"text-align: right;\">\n",
       "      <th></th>\n",
       "      <th>Country</th>\n",
       "      <th>Obesity (%)</th>\n",
       "      <th>Sex</th>\n",
       "      <th>Obesity</th>\n",
       "    </tr>\n",
       "    <tr>\n",
       "      <th>Year</th>\n",
       "      <th></th>\n",
       "      <th></th>\n",
       "      <th></th>\n",
       "      <th></th>\n",
       "    </tr>\n",
       "  </thead>\n",
       "  <tbody>\n",
       "    <tr>\n",
       "      <th>1975</th>\n",
       "      <td>Afghanistan</td>\n",
       "      <td>0.5 [0.2-1.1]</td>\n",
       "      <td>Both sexes</td>\n",
       "      <td>0.5</td>\n",
       "    </tr>\n",
       "    <tr>\n",
       "      <th>1975</th>\n",
       "      <td>Afghanistan</td>\n",
       "      <td>0.2 [0.0-0.6]</td>\n",
       "      <td>Male</td>\n",
       "      <td>0.2</td>\n",
       "    </tr>\n",
       "    <tr>\n",
       "      <th>1975</th>\n",
       "      <td>Afghanistan</td>\n",
       "      <td>0.8 [0.2-2.0]</td>\n",
       "      <td>Female</td>\n",
       "      <td>0.8</td>\n",
       "    </tr>\n",
       "    <tr>\n",
       "      <th>1976</th>\n",
       "      <td>Afghanistan</td>\n",
       "      <td>0.5 [0.2-1.1]</td>\n",
       "      <td>Both sexes</td>\n",
       "      <td>0.5</td>\n",
       "    </tr>\n",
       "    <tr>\n",
       "      <th>1976</th>\n",
       "      <td>Afghanistan</td>\n",
       "      <td>0.2 [0.0-0.7]</td>\n",
       "      <td>Male</td>\n",
       "      <td>0.2</td>\n",
       "    </tr>\n",
       "    <tr>\n",
       "      <th>...</th>\n",
       "      <td>...</td>\n",
       "      <td>...</td>\n",
       "      <td>...</td>\n",
       "      <td>...</td>\n",
       "    </tr>\n",
       "    <tr>\n",
       "      <th>2015</th>\n",
       "      <td>Zimbabwe</td>\n",
       "      <td>4.5 [2.4-7.6]</td>\n",
       "      <td>Male</td>\n",
       "      <td>4.5</td>\n",
       "    </tr>\n",
       "    <tr>\n",
       "      <th>2015</th>\n",
       "      <td>Zimbabwe</td>\n",
       "      <td>24.8 [18.9-31.3]</td>\n",
       "      <td>Female</td>\n",
       "      <td>24.8</td>\n",
       "    </tr>\n",
       "    <tr>\n",
       "      <th>2016</th>\n",
       "      <td>Zimbabwe</td>\n",
       "      <td>15.5 [12.0-19.2]</td>\n",
       "      <td>Both sexes</td>\n",
       "      <td>15.5</td>\n",
       "    </tr>\n",
       "    <tr>\n",
       "      <th>2016</th>\n",
       "      <td>Zimbabwe</td>\n",
       "      <td>4.7 [2.5-8.0]</td>\n",
       "      <td>Male</td>\n",
       "      <td>4.7</td>\n",
       "    </tr>\n",
       "    <tr>\n",
       "      <th>2016</th>\n",
       "      <td>Zimbabwe</td>\n",
       "      <td>25.3 [19.1-32.0]</td>\n",
       "      <td>Female</td>\n",
       "      <td>25.3</td>\n",
       "    </tr>\n",
       "  </tbody>\n",
       "</table>\n",
       "<p>24066 rows × 4 columns</p>\n",
       "</div>"
      ],
      "text/plain": [
       "          Country       Obesity (%)         Sex  Obesity\n",
       "Year                                                    \n",
       "1975  Afghanistan     0.5 [0.2-1.1]  Both sexes      0.5\n",
       "1975  Afghanistan     0.2 [0.0-0.6]        Male      0.2\n",
       "1975  Afghanistan     0.8 [0.2-2.0]      Female      0.8\n",
       "1976  Afghanistan     0.5 [0.2-1.1]  Both sexes      0.5\n",
       "1976  Afghanistan     0.2 [0.0-0.7]        Male      0.2\n",
       "...           ...               ...         ...      ...\n",
       "2015     Zimbabwe     4.5 [2.4-7.6]        Male      4.5\n",
       "2015     Zimbabwe  24.8 [18.9-31.3]      Female     24.8\n",
       "2016     Zimbabwe  15.5 [12.0-19.2]  Both sexes     15.5\n",
       "2016     Zimbabwe     4.7 [2.5-8.0]        Male      4.7\n",
       "2016     Zimbabwe  25.3 [19.1-32.0]      Female     25.3\n",
       "\n",
       "[24066 rows x 4 columns]"
      ]
     },
     "execution_count": 15,
     "metadata": {},
     "output_type": "execute_result"
    }
   ],
   "source": [
    "df_obesity"
   ]
  },
  {
   "cell_type": "code",
   "execution_count": 16,
   "id": "3a16a9dd",
   "metadata": {},
   "outputs": [
    {
     "name": "stdout",
     "output_type": "stream",
     "text": [
      "<class 'pandas.core.frame.DataFrame'>\n",
      "Index: 24066 entries, 1975 to 2016\n",
      "Data columns (total 4 columns):\n",
      " #   Column       Non-Null Count  Dtype  \n",
      "---  ------       --------------  -----  \n",
      " 0   Country      24066 non-null  object \n",
      " 1   Obesity (%)  24066 non-null  object \n",
      " 2   Sex          24066 non-null  object \n",
      " 3   Obesity      24066 non-null  float64\n",
      "dtypes: float64(1), object(3)\n",
      "memory usage: 940.1+ KB\n"
     ]
    }
   ],
   "source": [
    "df_obesity.info()"
   ]
  },
  {
   "cell_type": "markdown",
   "id": "young-radiation",
   "metadata": {},
   "source": [
    "- Qual o percentual médio de obesidade por sexo no mundo no ano de 2015?"
   ]
  },
  {
   "cell_type": "code",
   "execution_count": 18,
   "id": "c99e4d06",
   "metadata": {},
   "outputs": [
    {
     "data": {
      "text/html": [
       "<div>\n",
       "<style scoped>\n",
       "    .dataframe tbody tr th:only-of-type {\n",
       "        vertical-align: middle;\n",
       "    }\n",
       "\n",
       "    .dataframe tbody tr th {\n",
       "        vertical-align: top;\n",
       "    }\n",
       "\n",
       "    .dataframe thead th {\n",
       "        text-align: right;\n",
       "    }\n",
       "</style>\n",
       "<table border=\"1\" class=\"dataframe\">\n",
       "  <thead>\n",
       "    <tr style=\"text-align: right;\">\n",
       "      <th></th>\n",
       "      <th>Country</th>\n",
       "      <th>Obesity (%)</th>\n",
       "      <th>Sex</th>\n",
       "      <th>Obesity</th>\n",
       "    </tr>\n",
       "    <tr>\n",
       "      <th>Year</th>\n",
       "      <th></th>\n",
       "      <th></th>\n",
       "      <th></th>\n",
       "      <th></th>\n",
       "    </tr>\n",
       "  </thead>\n",
       "  <tbody>\n",
       "    <tr>\n",
       "      <th>2015</th>\n",
       "      <td>Afghanistan</td>\n",
       "      <td>5.2 [3.3-7.7]</td>\n",
       "      <td>Both sexes</td>\n",
       "      <td>5.2</td>\n",
       "    </tr>\n",
       "    <tr>\n",
       "      <th>2015</th>\n",
       "      <td>Afghanistan</td>\n",
       "      <td>3.0 [1.3-6.0]</td>\n",
       "      <td>Male</td>\n",
       "      <td>3.0</td>\n",
       "    </tr>\n",
       "    <tr>\n",
       "      <th>2015</th>\n",
       "      <td>Afghanistan</td>\n",
       "      <td>7.3 [4.1-11.8]</td>\n",
       "      <td>Female</td>\n",
       "      <td>7.3</td>\n",
       "    </tr>\n",
       "    <tr>\n",
       "      <th>2015</th>\n",
       "      <td>Albania</td>\n",
       "      <td>21.1 [16.6-26.0]</td>\n",
       "      <td>Both sexes</td>\n",
       "      <td>21.1</td>\n",
       "    </tr>\n",
       "    <tr>\n",
       "      <th>2015</th>\n",
       "      <td>Albania</td>\n",
       "      <td>20.9 [14.4-28.1]</td>\n",
       "      <td>Male</td>\n",
       "      <td>20.9</td>\n",
       "    </tr>\n",
       "    <tr>\n",
       "      <th>...</th>\n",
       "      <td>...</td>\n",
       "      <td>...</td>\n",
       "      <td>...</td>\n",
       "      <td>...</td>\n",
       "    </tr>\n",
       "    <tr>\n",
       "      <th>2015</th>\n",
       "      <td>Zambia</td>\n",
       "      <td>3.4 [1.6-6.1]</td>\n",
       "      <td>Male</td>\n",
       "      <td>3.4</td>\n",
       "    </tr>\n",
       "    <tr>\n",
       "      <th>2015</th>\n",
       "      <td>Zambia</td>\n",
       "      <td>12.0 [8.2-16.4]</td>\n",
       "      <td>Female</td>\n",
       "      <td>12.0</td>\n",
       "    </tr>\n",
       "    <tr>\n",
       "      <th>2015</th>\n",
       "      <td>Zimbabwe</td>\n",
       "      <td>15.2 [11.9-18.8]</td>\n",
       "      <td>Both sexes</td>\n",
       "      <td>15.2</td>\n",
       "    </tr>\n",
       "    <tr>\n",
       "      <th>2015</th>\n",
       "      <td>Zimbabwe</td>\n",
       "      <td>4.5 [2.4-7.6]</td>\n",
       "      <td>Male</td>\n",
       "      <td>4.5</td>\n",
       "    </tr>\n",
       "    <tr>\n",
       "      <th>2015</th>\n",
       "      <td>Zimbabwe</td>\n",
       "      <td>24.8 [18.9-31.3]</td>\n",
       "      <td>Female</td>\n",
       "      <td>24.8</td>\n",
       "    </tr>\n",
       "  </tbody>\n",
       "</table>\n",
       "<p>573 rows × 4 columns</p>\n",
       "</div>"
      ],
      "text/plain": [
       "          Country       Obesity (%)         Sex  Obesity\n",
       "Year                                                    \n",
       "2015  Afghanistan     5.2 [3.3-7.7]  Both sexes      5.2\n",
       "2015  Afghanistan     3.0 [1.3-6.0]        Male      3.0\n",
       "2015  Afghanistan    7.3 [4.1-11.8]      Female      7.3\n",
       "2015      Albania  21.1 [16.6-26.0]  Both sexes     21.1\n",
       "2015      Albania  20.9 [14.4-28.1]        Male     20.9\n",
       "...           ...               ...         ...      ...\n",
       "2015       Zambia     3.4 [1.6-6.1]        Male      3.4\n",
       "2015       Zambia   12.0 [8.2-16.4]      Female     12.0\n",
       "2015     Zimbabwe  15.2 [11.9-18.8]  Both sexes     15.2\n",
       "2015     Zimbabwe     4.5 [2.4-7.6]        Male      4.5\n",
       "2015     Zimbabwe  24.8 [18.9-31.3]      Female     24.8\n",
       "\n",
       "[573 rows x 4 columns]"
      ]
     },
     "execution_count": 18,
     "metadata": {},
     "output_type": "execute_result"
    }
   ],
   "source": [
    "df_obesity[df_obesity.index == 2015]"
   ]
  },
  {
   "cell_type": "code",
   "execution_count": 23,
   "id": "light-filling",
   "metadata": {},
   "outputs": [
    {
     "data": {
      "text/html": [
       "<div>\n",
       "<style scoped>\n",
       "    .dataframe tbody tr th:only-of-type {\n",
       "        vertical-align: middle;\n",
       "    }\n",
       "\n",
       "    .dataframe tbody tr th {\n",
       "        vertical-align: top;\n",
       "    }\n",
       "\n",
       "    .dataframe thead th {\n",
       "        text-align: right;\n",
       "    }\n",
       "</style>\n",
       "<table border=\"1\" class=\"dataframe\">\n",
       "  <thead>\n",
       "    <tr style=\"text-align: right;\">\n",
       "      <th></th>\n",
       "      <th>Obesity</th>\n",
       "    </tr>\n",
       "    <tr>\n",
       "      <th>Sex</th>\n",
       "      <th></th>\n",
       "    </tr>\n",
       "  </thead>\n",
       "  <tbody>\n",
       "    <tr>\n",
       "      <th>Both sexes</th>\n",
       "      <td>19.508377</td>\n",
       "    </tr>\n",
       "    <tr>\n",
       "      <th>Female</th>\n",
       "      <td>22.899476</td>\n",
       "    </tr>\n",
       "    <tr>\n",
       "      <th>Male</th>\n",
       "      <td>15.980628</td>\n",
       "    </tr>\n",
       "  </tbody>\n",
       "</table>\n",
       "</div>"
      ],
      "text/plain": [
       "              Obesity\n",
       "Sex                  \n",
       "Both sexes  19.508377\n",
       "Female      22.899476\n",
       "Male        15.980628"
      ]
     },
     "execution_count": 23,
     "metadata": {},
     "output_type": "execute_result"
    }
   ],
   "source": [
    "df_obesity[df_obesity.index == 2015].groupby(\"Sex\").mean(numeric_only=True)"
   ]
  },
  {
   "cell_type": "markdown",
   "id": "linear-event",
   "metadata": {},
   "source": [
    "- Quais são os 5 países com a maior e a menor taxa de aumento nos índices de obesidade no período observado?"
   ]
  },
  {
   "cell_type": "code",
   "execution_count": 24,
   "id": "animated-vacation",
   "metadata": {},
   "outputs": [],
   "source": [
    "df_obesity_start = df_obesity[df_obesity.index == 1975]\n",
    "df_obesity_end = df_obesity[df_obesity.index == 2016]\n",
    "\n",
    "df_obesity_start.set_index(\"Country\", inplace=True)\n",
    "df_obesity_end.set_index(\"Country\", inplace=True)"
   ]
  },
  {
   "cell_type": "code",
   "execution_count": 25,
   "id": "standard-position",
   "metadata": {},
   "outputs": [],
   "source": [
    "df_obesity_ev = df_obesity_end[df_obesity_end[\"Sex\"] == \"Both sexes\"][\"Obesity\"] - df_obesity_start[df_obesity_start[\"Sex\"] == \"Both sexes\"][\"Obesity\"]"
   ]
  },
  {
   "cell_type": "code",
   "execution_count": 26,
   "id": "homeless-flower",
   "metadata": {},
   "outputs": [
    {
     "data": {
      "text/plain": [
       "Country\n",
       "Viet Nam       2.0\n",
       "Singapore      3.1\n",
       "Japan          3.3\n",
       "Bangladesh     3.4\n",
       "Timor-Leste    3.6\n",
       "Name: Obesity, dtype: float64"
      ]
     },
     "execution_count": 26,
     "metadata": {},
     "output_type": "execute_result"
    }
   ],
   "source": [
    "df_obesity_ev.sort_values().dropna().head(5)"
   ]
  },
  {
   "cell_type": "code",
   "execution_count": 27,
   "id": "authorized-porcelain",
   "metadata": {},
   "outputs": [
    {
     "data": {
      "text/plain": [
       "Country\n",
       "Cook Islands    27.9\n",
       "Tonga           28.3\n",
       "Kiribati        30.1\n",
       "Niue            31.1\n",
       "Tuvalu          33.7\n",
       "Name: Obesity, dtype: float64"
      ]
     },
     "execution_count": 27,
     "metadata": {},
     "output_type": "execute_result"
    }
   ],
   "source": [
    "df_obesity_ev.sort_values().dropna().tail(5)"
   ]
  },
  {
   "cell_type": "markdown",
   "id": "sticky-tiffany",
   "metadata": {},
   "source": [
    "- Quais os países com maiores e menores níveis percetuais de obesidade em 2015?"
   ]
  },
  {
   "cell_type": "code",
   "execution_count": 28,
   "id": "complicated-robertson",
   "metadata": {},
   "outputs": [
    {
     "data": {
      "text/html": [
       "<div>\n",
       "<style scoped>\n",
       "    .dataframe tbody tr th:only-of-type {\n",
       "        vertical-align: middle;\n",
       "    }\n",
       "\n",
       "    .dataframe tbody tr th {\n",
       "        vertical-align: top;\n",
       "    }\n",
       "\n",
       "    .dataframe thead th {\n",
       "        text-align: right;\n",
       "    }\n",
       "</style>\n",
       "<table border=\"1\" class=\"dataframe\">\n",
       "  <thead>\n",
       "    <tr style=\"text-align: right;\">\n",
       "      <th></th>\n",
       "      <th>Country</th>\n",
       "      <th>Obesity (%)</th>\n",
       "      <th>Sex</th>\n",
       "      <th>Obesity</th>\n",
       "    </tr>\n",
       "    <tr>\n",
       "      <th>Year</th>\n",
       "      <th></th>\n",
       "      <th></th>\n",
       "      <th></th>\n",
       "      <th></th>\n",
       "    </tr>\n",
       "  </thead>\n",
       "  <tbody>\n",
       "    <tr>\n",
       "      <th>2015</th>\n",
       "      <td>Nauru</td>\n",
       "      <td>63.1 [55.5-70.3]</td>\n",
       "      <td>Female</td>\n",
       "      <td>63.1</td>\n",
       "    </tr>\n",
       "  </tbody>\n",
       "</table>\n",
       "</div>"
      ],
      "text/plain": [
       "     Country       Obesity (%)     Sex  Obesity\n",
       "Year                                           \n",
       "2015   Nauru  63.1 [55.5-70.3]  Female     63.1"
      ]
     },
     "execution_count": 28,
     "metadata": {},
     "output_type": "execute_result"
    }
   ],
   "source": [
    "df_2015 = df_obesity[df_obesity.index == 2015].copy()\n",
    "df_2015[df_2015[\"Obesity\"] == df_2015[\"Obesity\"].max()]"
   ]
  },
  {
   "cell_type": "code",
   "execution_count": 29,
   "id": "talented-lebanon",
   "metadata": {},
   "outputs": [
    {
     "data": {
      "text/html": [
       "<div>\n",
       "<style scoped>\n",
       "    .dataframe tbody tr th:only-of-type {\n",
       "        vertical-align: middle;\n",
       "    }\n",
       "\n",
       "    .dataframe tbody tr th {\n",
       "        vertical-align: top;\n",
       "    }\n",
       "\n",
       "    .dataframe thead th {\n",
       "        text-align: right;\n",
       "    }\n",
       "</style>\n",
       "<table border=\"1\" class=\"dataframe\">\n",
       "  <thead>\n",
       "    <tr style=\"text-align: right;\">\n",
       "      <th></th>\n",
       "      <th>Country</th>\n",
       "      <th>Obesity (%)</th>\n",
       "      <th>Sex</th>\n",
       "      <th>Obesity</th>\n",
       "    </tr>\n",
       "    <tr>\n",
       "      <th>Year</th>\n",
       "      <th></th>\n",
       "      <th></th>\n",
       "      <th></th>\n",
       "      <th></th>\n",
       "    </tr>\n",
       "  </thead>\n",
       "  <tbody>\n",
       "    <tr>\n",
       "      <th>2015</th>\n",
       "      <td>Viet Nam</td>\n",
       "      <td>1.5 [0.8-2.5]</td>\n",
       "      <td>Male</td>\n",
       "      <td>1.5</td>\n",
       "    </tr>\n",
       "  </tbody>\n",
       "</table>\n",
       "</div>"
      ],
      "text/plain": [
       "       Country    Obesity (%)   Sex  Obesity\n",
       "Year                                        \n",
       "2015  Viet Nam  1.5 [0.8-2.5]  Male      1.5"
      ]
     },
     "execution_count": 29,
     "metadata": {},
     "output_type": "execute_result"
    }
   ],
   "source": [
    "df_2015 = df_obesity[df_obesity.index == 2015].copy()\n",
    "df_2015[df_2015[\"Obesity\"] == df_2015[\"Obesity\"].min()]"
   ]
  },
  {
   "cell_type": "markdown",
   "id": "detected-broad",
   "metadata": {},
   "source": [
    "- Qual a diferença média percentual de obesidade entre sexos ao longo dos anos para o Brasil?"
   ]
  },
  {
   "cell_type": "code",
   "execution_count": 30,
   "id": "cellular-sheriff",
   "metadata": {},
   "outputs": [],
   "source": [
    "df_brasil = df_obesity[df_obesity[\"Country\"] == \"Brazil\"]"
   ]
  },
  {
   "cell_type": "code",
   "execution_count": 31,
   "id": "unable-dryer",
   "metadata": {},
   "outputs": [
    {
     "data": {
      "text/plain": [
       "<Axes: xlabel='Year'>"
      ]
     },
     "execution_count": 31,
     "metadata": {},
     "output_type": "execute_result"
    },
    {
     "data": {
      "image/png": "[encoded data removed]",
      "text/plain": [
       "<Figure size 640x480 with 1 Axes>"
      ]
     },
     "metadata": {},
     "output_type": "display_data"
    }
   ],
   "source": [
    "(df_brasil[df_brasil[\"Sex\"] == \"Female\"][\"Obesity\"] - df_brasil[df_brasil[\"Sex\"] == \"Male\"][\"Obesity\"]).plot()"
   ]
  },
  {
   "cell_type": "markdown",
   "id": "cellular-desktop",
   "metadata": {},
   "source": [
    "- Você conseguiria plotar um gráfico mostrando a evolução da obesidade para ambos sexos no mundo?"
   ]
  },
  {
   "cell_type": "code",
   "execution_count": 32,
   "id": "innovative-development",
   "metadata": {},
   "outputs": [],
   "source": [
    "all_countries = df_obesity[\"Country\"].value_counts()\n",
    "df_both = df_obesity[df_obesity[\"Sex\"] == \"Both sexes\"]\n",
    "df_both = df_both.groupby(\"Year\")[\"Obesity\"].mean()"
   ]
  },
  {
   "cell_type": "code",
   "execution_count": null,
   "id": "referenced-professor",
   "metadata": {},
   "outputs": [],
   "source": [
    "df_both.plot()"
   ]
  },
  {
   "cell_type": "markdown",
   "id": "higher-automation",
   "metadata": {},
   "source": [
    "## Perguntas - GDP Per Person (1901-2011)"
   ]
  },
  {
   "cell_type": "code",
   "execution_count": null,
   "id": "labeled-package",
   "metadata": {},
   "outputs": [],
   "source": [
    "df_gdp = pd.read_csv(\"Datasets/GDP.csv\", decimal=\".\")"
   ]
  },
  {
   "cell_type": "code",
   "execution_count": null,
   "id": "laden-rwanda",
   "metadata": {},
   "outputs": [],
   "source": [
    "df_gdp.columns"
   ]
  },
  {
   "cell_type": "markdown",
   "id": "israeli-framing",
   "metadata": {},
   "source": [
    "- Limpe o conjunto de dados, convertendo strings em datas ou float, quando necessário."
   ]
  },
  {
   "cell_type": "code",
   "execution_count": null,
   "id": "fewer-temple",
   "metadata": {},
   "outputs": [],
   "source": [
    "df_gdp[\"Year\"] = df_gdp[\"Year\"].apply(lambda x: int(x.split(\"/\")[-1]))"
   ]
  },
  {
   "cell_type": "code",
   "execution_count": null,
   "id": "beginning-applicant",
   "metadata": {},
   "outputs": [],
   "source": [
    "df_gdp[\"gdp_pp\"] = df_gdp[\" GDP_pp \"].apply(lambda x: float(x.split(\" \")[1].replace(\",\", \"\")))\n",
    "del df_gdp[\" GDP_pp \"]"
   ]
  },
  {
   "cell_type": "code",
   "execution_count": null,
   "id": "latest-preference",
   "metadata": {},
   "outputs": [],
   "source": [
    "df_gdp.head(3)"
   ]
  },
  {
   "cell_type": "markdown",
   "id": "respected-wallpaper",
   "metadata": {},
   "source": [
    "- Você conseguiria informar o primeiro valor registrado de cada país?"
   ]
  },
  {
   "cell_type": "code",
   "execution_count": null,
   "id": "generous-seeking",
   "metadata": {},
   "outputs": [],
   "source": [
    "df_gdp.groupby(\"Country\").min()[\"Year\"]"
   ]
  },
  {
   "cell_type": "code",
   "execution_count": null,
   "id": "mexican-simulation",
   "metadata": {},
   "outputs": [],
   "source": [
    "df_gdp.groupby(\"Country\").min()[\"Year\"].isna().sum()"
   ]
  },
  {
   "cell_type": "code",
   "execution_count": null,
   "id": "serial-princeton",
   "metadata": {},
   "outputs": [],
   "source": [
    "df_gdp.groupby(\"Country\").min()[\"Year\"].value_counts()"
   ]
  },
  {
   "cell_type": "code",
   "execution_count": null,
   "id": "important-german",
   "metadata": {},
   "outputs": [],
   "source": [
    "df_gdp.groupby(\"Country\").min()[\"Year\"][df_gdp.groupby(\"Country\").min()[\"Year\"] == 1991]"
   ]
  },
  {
   "cell_type": "markdown",
   "id": "miniature-basket",
   "metadata": {},
   "source": [
    "- Informe as regiões com maiores crescimentos de PIB per capita no século passado."
   ]
  },
  {
   "cell_type": "code",
   "execution_count": null,
   "id": "unexpected-cigarette",
   "metadata": {},
   "outputs": [],
   "source": [
    "df_gdp[df_gdp[\"Year\"] < 2000][\"Year\"].max()"
   ]
  },
  {
   "cell_type": "code",
   "execution_count": null,
   "id": "accomplished-lodging",
   "metadata": {},
   "outputs": [],
   "source": [
    "df_gdp_start = df_gdp[(df_gdp[\"Year\"] == 1901)]\n",
    "df_gdp_end = df_gdp[(df_gdp[\"Year\"] == 1996)]"
   ]
  },
  {
   "cell_type": "code",
   "execution_count": null,
   "id": "normal-supply",
   "metadata": {},
   "outputs": [],
   "source": [
    "((df_gdp_end.groupby(\"Region\")[\"gdp_pp\"].mean() / df_gdp_start.groupby(\"Region\")[\"gdp_pp\"].mean() - 1) * 100).sort_values(ascending=False)"
   ]
  },
  {
   "cell_type": "markdown",
   "id": "bearing-innocent",
   "metadata": {},
   "source": [
    "- Preecha os anos ausentes em cada país com uma estimativa, baseada na diferença entre o próximo registro e o anterior."
   ]
  },
  {
   "cell_type": "code",
   "execution_count": null,
   "id": "fabulous-combination",
   "metadata": {},
   "outputs": [],
   "source": [
    "df_gdp.head()"
   ]
  },
  {
   "cell_type": "code",
   "execution_count": null,
   "id": "christian-guide",
   "metadata": {},
   "outputs": [],
   "source": [
    "arr_years = np.arange(df_gdp[\"Year\"].min(), df_gdp[\"Year\"].max())\n",
    "df_all_years = pd.DataFrame(arr_years, columns=[\"Year\"])\n",
    "df_all_years.index = df_all_years[\"Year\"]\n",
    "\n",
    "df_years_off = ~df_all_years[\"Year\"].isin(df_gdp[\"Year\"])\n",
    "df_years_off = df_years_off[df_years_off].index"
   ]
  },
  {
   "cell_type": "code",
   "execution_count": null,
   "id": "built-pharmacology",
   "metadata": {},
   "outputs": [],
   "source": [
    "df_gdp = df_gdp.sort_values([\"Country\", \"Year\"])\n",
    "\n",
    "df_gdp[\"delta_gdp\"] = df_gdp[\"gdp_pp\"] - df_gdp[\"gdp_pp\"].shift(1)\n",
    "df_gdp[\"delta_year\"] = df_gdp[\"Year\"] - df_gdp[\"Year\"].shift(1)\n",
    "df_gdp[\"gdp_year\"] = (df_gdp[\"delta_gdp\"] / df_gdp[\"delta_year\"]).shift(-1)"
   ]
  },
  {
   "cell_type": "code",
   "execution_count": null,
   "id": "immediate-arlington",
   "metadata": {},
   "outputs": [],
   "source": []
  },
  {
   "cell_type": "code",
   "execution_count": null,
   "id": "organic-cycling",
   "metadata": {},
   "outputs": [],
   "source": [
    "df_gdp[\"next_year\"] = df_gdp[\"Year\"].shift(-1)\n",
    "del df_gdp[\"delta_gdp\"], df_gdp[\"delta_year\"]"
   ]
  },
  {
   "cell_type": "code",
   "execution_count": null,
   "id": "biblical-cross",
   "metadata": {},
   "outputs": [],
   "source": [
    "df_new_data = pd.DataFrame()\n",
    "\n",
    "for idx, row in df_gdp.iterrows():\n",
    "    if row[\"Year\"] == 2011:\n",
    "        continue\n",
    "    \n",
    "    # print(idx, row)\n",
    "    year_to_add = df_years_off[(df_years_off < row[\"next_year\"]) & (df_years_off >row[\"Year\"])]\n",
    "    \n",
    "    for new_year in year_to_add:\n",
    "        add_row = row.copy()\n",
    "        add_row[\"gdp_pp\"] = (new_year - add_row[\"Year\"]) * add_row[\"gdp_year\"] + add_row[\"gdp_pp\"]\n",
    "        add_row[\"Year\"] = new_year\n",
    "        df_new_data[\"kind\"] = \"estimated\"\n",
    "        df_new_data = pd.concat([df_new_data, add_row.to_frame().transpose()])"
   ]
  },
  {
   "cell_type": "code",
   "execution_count": null,
   "id": "built-match",
   "metadata": {},
   "outputs": [],
   "source": [
    "df_gdp.iloc[100:].head(10)"
   ]
  },
  {
   "cell_type": "code",
   "execution_count": null,
   "id": "cardiac-assessment",
   "metadata": {},
   "outputs": [],
   "source": [
    "df_gdp = pd.concat([df_gdp, df_new_data]).sort_values([\"Country\", \"Year\"])\n",
    "df_gdp[\"kind\"].fillna(\"real\", inplace=True)\n",
    "df_gdp.index = df_gdp[\"Year\"]"
   ]
  },
  {
   "cell_type": "code",
   "execution_count": null,
   "id": "changing-feedback",
   "metadata": {},
   "outputs": [],
   "source": [
    "import matplotlib.pyplot as plt\n",
    "fig, ax = plt.subplots(figsize=(20, 5))\n",
    "df_gdp[(df_gdp[\"kind\"] == \"real\") & (df_gdp[\"Country\"] == \"United States\")].plot(kind=\"scatter\", y=\"gdp_pp\", x=\"Year\", ax=ax)\n",
    "df_gdp[(df_gdp[\"kind\"] == \"estimated\") & (df_gdp[\"Country\"] == \"United States\")].plot(kind=\"scatter\", y=\"gdp_pp\", x=\"Year\", ax=ax, color=\"red\")"
   ]
  },
  {
   "cell_type": "markdown",
   "id": "weird-banana",
   "metadata": {},
   "source": [
    "### DESAFIOS\n",
    "- Você conseguiria criar um mapa do gdp ou da obesidade no mundo ao longo dos anos?"
   ]
  },
  {
   "cell_type": "code",
   "execution_count": null,
   "id": "fossil-xerox",
   "metadata": {},
   "outputs": [],
   "source": [
    "df_gdp[df_gdp[\"kind\"] == \"real\"].reset_index(drop=True).head(5)"
   ]
  },
  {
   "cell_type": "code",
   "execution_count": null,
   "id": "timely-cowboy",
   "metadata": {},
   "outputs": [],
   "source": [
    "df_gdp[\"Year\"] = df_gdp[\"Year\"].astype(int)\n",
    "df_gdp[\"gdp_pp\"] = df_gdp[\"gdp_pp\"].astype(float)"
   ]
  },
  {
   "cell_type": "code",
   "execution_count": null,
   "id": "available-marine",
   "metadata": {},
   "outputs": [],
   "source": [
    "import plotly.express as px\n",
    "\n",
    "df = px.data.gapminder()\n",
    "dict_iso_alpha = df.set_index(\"country\").to_dict()[\"iso_alpha\"]\n",
    "dict_num = {j: i for i, j in enumerate(df_gdp[\"Country\"].unique())}\n",
    "\n",
    "df_gdp[\"iso_alpha\"] = df_gdp[\"Country\"].map(dict_iso_alpha)\n",
    "df_gdp[\"iso_num\"] = df_gdp[\"Country\"].map(dict_num)\n",
    "\n",
    "fig = px.choropleth(df_gdp[df_gdp[\"kind\"] == \"real\"].reset_index(drop=True), locations=\"iso_alpha\", color=\"gdp_pp\", hover_name=\"Country\", animation_frame=\"Year\")\n",
    "\n",
    "fig.update_layout(height=600)\n",
    "fig.show()"
   ]
  },
  {
   "cell_type": "markdown",
   "id": "weekly-violence",
   "metadata": {},
   "source": [
    "- Há uma relação entre níveis de obesidade e gdp per capita?"
   ]
  },
  {
   "cell_type": "code",
   "execution_count": null,
   "id": "available-peoples",
   "metadata": {},
   "outputs": [],
   "source": [
    "df_obesity[\"country-year\"] = df_obesity[\"Country\"] + \"-\" + df_obesity.reset_index()[\"Year\"].apply(lambda x: str(int(x))).values\n",
    "dict_obesity_year = df_obesity.set_index(\"country-year\").to_dict()[\"Obesity\"]"
   ]
  },
  {
   "cell_type": "code",
   "execution_count": null,
   "id": "united-consensus",
   "metadata": {},
   "outputs": [],
   "source": [
    "df_gdp[\"country-year\"] = df_gdp[\"Country\"] + \"-\" + df_gdp[\"Year\"].apply(lambda x: str(x)).values\n",
    "df_gdp[\"Obesity\"] = df_gdp[\"country-year\"].map(dict_obesity_year)"
   ]
  },
  {
   "cell_type": "code",
   "execution_count": null,
   "id": "working-values",
   "metadata": {},
   "outputs": [],
   "source": [
    "# df_gdp.dropna(inplace=True)"
   ]
  },
  {
   "cell_type": "code",
   "execution_count": null,
   "id": "chief-proceeding",
   "metadata": {},
   "outputs": [],
   "source": [
    "df_gdp_clean = df_gdp.dropna()"
   ]
  },
  {
   "cell_type": "code",
   "execution_count": null,
   "id": "accepting-watch",
   "metadata": {},
   "outputs": [],
   "source": [
    "countries = df_gdp_clean[\"Country\"].unique()"
   ]
  },
  {
   "cell_type": "code",
   "execution_count": null,
   "id": "unsigned-cowboy",
   "metadata": {},
   "outputs": [],
   "source": [
    "corr_list = []\n",
    "for country in countries:\n",
    "    corr_list += [df_gdp_clean[df_gdp_clean[\"Country\"] == country][[\"Obesity\", \"gdp_pp\"]].corr().iloc[0, 1]]\n",
    "\n",
    "df_corr = pd.Series(corr_list, index=countries)"
   ]
  },
  {
   "cell_type": "code",
   "execution_count": null,
   "id": "common-operations",
   "metadata": {},
   "outputs": [],
   "source": [
    "df_corr.mean()"
   ]
  },
  {
   "cell_type": "code",
   "execution_count": null,
   "id": "unlimited-plastic",
   "metadata": {},
   "outputs": [],
   "source": [
    "df_corr.std()"
   ]
  },
  {
   "cell_type": "code",
   "execution_count": null,
   "id": "double-indiana",
   "metadata": {},
   "outputs": [],
   "source": [
    "df_corr.sort_values().plot()"
   ]
  },
  {
   "cell_type": "code",
   "execution_count": null,
   "id": "voluntary-ribbon",
   "metadata": {},
   "outputs": [],
   "source": [
    "country = \"Australia\"\n",
    "fig, ax = plt.subplots()\n",
    "df_gdp_clean[df_gdp_clean[\"Country\"] == country][[\"Obesity\"]].plot(ax=ax)\n",
    "ax2 = ax.twinx()\n",
    "df_gdp_clean[df_gdp_clean[\"Country\"] == country][[\"gdp_pp\"]].plot(ax=ax2, color=\"red\")"
   ]
  },
  {
   "cell_type": "code",
   "execution_count": null,
   "id": "three-province",
   "metadata": {},
   "outputs": [],
   "source": [
    "df_gdp_clean"
   ]
  },
  {
   "cell_type": "code",
   "execution_count": null,
   "id": "graphic-blackberry",
   "metadata": {},
   "outputs": [],
   "source": [
    "df_gdp_clean.reset_index(drop=True).groupby(\"Year\")[[\"Obesity\", \"gdp_pp\"]].mean().corr().iloc[0, 1]"
   ]
  },
  {
   "cell_type": "code",
   "execution_count": null,
   "id": "adult-gathering",
   "metadata": {},
   "outputs": [],
   "source": []
  }
 ],
 "metadata": {
  "kernelspec": {
   "display_name": "Python 3",
   "language": "python",
   "name": "python3"
  },
  "language_info": {
   "codemirror_mode": {
    "name": "ipython",
    "version": 3
   },
   "file_extension": ".py",
   "mimetype": "text/x-python",
   "name": "python",
   "nbconvert_exporter": "python",
   "pygments_lexer": "ipython3",
   "version": "3.13.0"
  }
 },
 "nbformat": 4,
 "nbformat_minor": 5
}
